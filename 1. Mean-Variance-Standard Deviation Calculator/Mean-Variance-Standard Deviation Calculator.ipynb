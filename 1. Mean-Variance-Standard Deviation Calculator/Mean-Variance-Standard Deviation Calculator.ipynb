{
 "cells": [
  {
   "cell_type": "code",
   "execution_count": 1,
   "id": "b97d9ddc",
   "metadata": {},
   "outputs": [],
   "source": [
    "import numpy as np"
   ]
  },
  {
   "cell_type": "code",
   "execution_count": 2,
   "id": "268515cd",
   "metadata": {},
   "outputs": [],
   "source": [
    "def calculate(list):\n",
    "  if (len(list)<9):\n",
    "     raise ValueError(\"List must contain nine numbers.\")\n",
    "  else:\n",
    "     a = np.array(list).reshape(3,3)\n",
    "     calculations = {'mean' : [np.mean(a,axis=0).tolist(), np.mean(a,axis=1).tolist(),np.mean(a).tolist()],\n",
    "                     'variance' : [np.var(a,axis=0).tolist(), np.var(a,axis=1).tolist(),np.var(a).tolist()],\n",
    "                     'standard deviation' : [np.std(a,axis=0).tolist(), np.std(a,axis=1).tolist(), np.std(a).tolist()],\n",
    "                     'max': [np.amax(a,axis=0).tolist(), np.amax(a,axis=1).tolist(), np.amax(a).tolist()],\n",
    "                     'min': [np.amin(a,axis=0).tolist(), np.amin(a,axis=1).tolist(), np.amin(a).tolist()],\n",
    "                     'sum': [np.sum(a,axis=0).tolist(), np.sum(a,axis=1).tolist(), np.sum(a).tolist()]\n",
    "                    }\n",
    "       \n",
    "  return calculations"
   ]
  },
  {
   "cell_type": "code",
   "execution_count": 3,
   "id": "7e443075",
   "metadata": {},
   "outputs": [
    {
     "data": {
      "text/plain": [
       "{'mean': [[3.0, 4.0, 5.0], [1.0, 4.0, 7.0], 4.0],\n",
       " 'variance': [[6.0, 6.0, 6.0],\n",
       "  [0.6666666666666666, 0.6666666666666666, 0.6666666666666666],\n",
       "  6.666666666666667],\n",
       " 'standard deviation': [[2.449489742783178,\n",
       "   2.449489742783178,\n",
       "   2.449489742783178],\n",
       "  [0.816496580927726, 0.816496580927726, 0.816496580927726],\n",
       "  2.581988897471611],\n",
       " 'max': [[6, 7, 8], [2, 5, 8], 8],\n",
       " 'min': [[0, 1, 2], [0, 3, 6], 0],\n",
       " 'sum': [[9, 12, 15], [3, 12, 21], 36]}"
      ]
     },
     "execution_count": 3,
     "metadata": {},
     "output_type": "execute_result"
    }
   ],
   "source": [
    "calculate([0,1,2,3,4,5,6,7,8])"
   ]
  },
  {
   "cell_type": "code",
   "execution_count": null,
   "id": "b60da8a4",
   "metadata": {},
   "outputs": [],
   "source": []
  }
 ],
 "metadata": {
  "kernelspec": {
   "display_name": "Python 3 (ipykernel)",
   "language": "python",
   "name": "python3"
  },
  "language_info": {
   "codemirror_mode": {
    "name": "ipython",
    "version": 3
   },
   "file_extension": ".py",
   "mimetype": "text/x-python",
   "name": "python",
   "nbconvert_exporter": "python",
   "pygments_lexer": "ipython3",
   "version": "3.10.6"
  }
 },
 "nbformat": 4,
 "nbformat_minor": 5
}
